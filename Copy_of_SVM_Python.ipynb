{
  "cells": [
    {
      "cell_type": "markdown",
      "metadata": {
        "id": "view-in-github",
        "colab_type": "text"
      },
      "source": [
        "<a href=\"https://colab.research.google.com/github/ZEINA-CNAM/CNAM-RCP2016/blob/main/Copy_of_SVM_Python.ipynb\" target=\"_parent\"><img src=\"https://colab.research.google.com/assets/colab-badge.svg\" alt=\"Open In Colab\"/></a>"
      ]
    },
    {
      "cell_type": "code",
      "execution_count": null,
      "id": "c8e5c2ff",
      "metadata": {
        "id": "c8e5c2ff",
        "outputId": "05501d1e-989a-4a10-b241-3bea9a831bb4"
      },
      "outputs": [
        {
          "name": "stdout",
          "output_type": "stream",
          "text": [
            "(768, 9)\n"
          ]
        }
      ],
      "source": [
        "import os#changement de dossier\n",
        "\n",
        "os.chdir(\"C:/Users/gyouness/OneDrive - Cesi/Bureau\")\n",
        "\n",
        "#utilisation de la librairie Pandas\n",
        "#spécialisée - entres autres - dans la manipulation des données\n",
        "import pandas\n",
        "pima = pandas.read_table(\"pima.txt\",sep=\"\\t\",header=0)\n",
        "\n",
        "#dimensions\n",
        "print(pima.shape)\n",
        "\n"
      ]
    },
    {
      "cell_type": "code",
      "execution_count": null,
      "id": "454cf5be",
      "metadata": {
        "id": "454cf5be",
        "outputId": "f569f8ec-0cc2-42b3-f791-9392ece0bbdd"
      },
      "outputs": [
        {
          "name": "stdout",
          "output_type": "stream",
          "text": [
            "Index(['pregnant', 'diastolic', 'triceps', 'bodymass', 'pedigree', 'age',\n",
            "       'plasma', 'serum', 'diabete'],\n",
            "      dtype='object')\n"
          ]
        }
      ],
      "source": [
        "#liste des colonnes\n",
        "print(pima.columns)\n",
        "\n"
      ]
    },
    {
      "cell_type": "code",
      "execution_count": null,
      "id": "537d1113",
      "metadata": {
        "id": "537d1113",
        "outputId": "e5f5d556-44f4-4b04-d872-033f9f3aedee"
      },
      "outputs": [
        {
          "name": "stdout",
          "output_type": "stream",
          "text": [
            "pregnant       int64\n",
            "diastolic      int64\n",
            "triceps        int64\n",
            "bodymass     float64\n",
            "pedigree     float64\n",
            "age            int64\n",
            "plasma         int64\n",
            "serum          int64\n",
            "diabete       object\n",
            "dtype: object\n"
          ]
        }
      ],
      "source": [
        "#liste des colonnes et leurs types\n",
        "print(pima.dtypes)"
      ]
    },
    {
      "cell_type": "code",
      "execution_count": null,
      "id": "c71e42e8",
      "metadata": {
        "id": "c71e42e8"
      },
      "outputs": [],
      "source": [
        "#### SCHEMA APPRENTISSAGE - TEST ####\n",
        "#transformation en matrice numpy\n",
        "#data = pima.as_matrix()\n",
        "data = pima.values\n",
        "#X matrice des var. explicatives\n",
        "X = data[:,0:8]\n",
        "\n",
        "#y vecteur de la var. à prédire\n",
        "y = data[:,8]"
      ]
    },
    {
      "cell_type": "code",
      "execution_count": null,
      "id": "c1660188",
      "metadata": {
        "id": "c1660188",
        "outputId": "53af395f-c5ea-4741-8c61-3cf9a69bb160"
      },
      "outputs": [
        {
          "name": "stdout",
          "output_type": "stream",
          "text": [
            "(468, 8) (300, 8) (468,) (300,)\n"
          ]
        }
      ],
      "source": [
        "#module validation croisée\n",
        "from sklearn.model_selection import train_test_split\n",
        "#subdivision des données - test = 300, app = 768-test = 468\n",
        "X_app,X_test,y_app,y_test = train_test_split(X,y,test_size = 300,random_state=0)\n",
        "print(X_app.shape,X_test.shape,y_app.shape,y_test.shape)"
      ]
    },
    {
      "cell_type": "code",
      "execution_count": null,
      "id": "5ebc606a",
      "metadata": {
        "id": "5ebc606a"
      },
      "outputs": [],
      "source": [
        "#svm\n",
        "from sklearn import svm\n",
        "\n",
        "#par défaut un noyau RBF et C = 1.0\n",
        "mvs = svm.SVC()\n",
        "\n",
        "#modélisation\n",
        "modele2 = mvs.fit(X_app,y_app)\n",
        "\n",
        "#prédiction ech. test\n",
        "y_pred2 = modele2.predict(X_test)"
      ]
    },
    {
      "cell_type": "code",
      "execution_count": null,
      "id": "a75834c9",
      "metadata": {
        "id": "a75834c9",
        "outputId": "4deaa4d7-d17e-4564-9a66-7cf94578560d"
      },
      "outputs": [
        {
          "name": "stdout",
          "output_type": "stream",
          "text": [
            "[[184  17]\n",
            " [ 57  42]]\n"
          ]
        }
      ],
      "source": [
        "#importation de metrics\n",
        "#utilisé pour les mesures de performances\n",
        "from sklearn import metrics\n",
        "\n",
        "#matrice de confusion\n",
        "print(metrics.confusion_matrix(y_test,y_pred2))"
      ]
    },
    {
      "cell_type": "code",
      "execution_count": null,
      "id": "9cb3ddf2",
      "metadata": {
        "id": "9cb3ddf2",
        "outputId": "2f40e775-4409-46a8-babb-6f3003d872a2"
      },
      "outputs": [
        {
          "name": "stdout",
          "output_type": "stream",
          "text": [
            "0.7533333333333333\n"
          ]
        }
      ],
      "source": [
        "#succès en test\n",
        "print(metrics.accuracy_score(y_test,y_pred2))\n"
      ]
    },
    {
      "cell_type": "code",
      "execution_count": null,
      "id": "918dac76",
      "metadata": {
        "id": "918dac76",
        "outputId": "12da10d3-e4ea-4ec5-cccb-0b80f9cbefda"
      },
      "outputs": [
        {
          "name": "stdout",
          "output_type": "stream",
          "text": [
            "                           params  mean_test_score\n",
            "0     {'C': 0.1, 'kernel': 'rbf'}         0.647449\n",
            "1  {'C': 0.1, 'kernel': 'linear'}         0.762755\n",
            "2       {'C': 1, 'kernel': 'rbf'}         0.749989\n",
            "3    {'C': 1, 'kernel': 'linear'}         0.762755\n",
            "4      {'C': 10, 'kernel': 'rbf'}         0.728552\n",
            "5   {'C': 10, 'kernel': 'linear'}         0.760604\n"
          ]
        }
      ],
      "source": [
        "#recherche des combinaisons de paramétrage\n",
        "parametres = [{'C':[0.1,1,10],'kernel':['rbf','linear']}]\n",
        "\n",
        "#import de la classe\n",
        "from sklearn.model_selection import GridSearchCV\n",
        "\n",
        "#évaluation en validation croisée\n",
        "#accuracy sera le critère à utiliser pour sélectionner la meilleure config.\n",
        "grid = GridSearchCV(estimator=mvs,param_grid=parametres,scoring='accuracy')\n",
        "\n",
        "#lancer la recherche\n",
        "#attention - gourmand en calculs\n",
        "grille = grid.fit(X_app,y_app)\n",
        "\n",
        "#résultat pour chaque comnbinaison\n",
        "print(pandas.DataFrame.from_dict(grille.cv_results_).loc[:,[\"params\",\"mean_test_score\"]])\n"
      ]
    },
    {
      "cell_type": "code",
      "execution_count": null,
      "id": "7f276c17",
      "metadata": {
        "id": "7f276c17",
        "outputId": "f8460537-a602-4dbe-f97f-54916e3c09e3"
      },
      "outputs": [
        {
          "name": "stdout",
          "output_type": "stream",
          "text": [
            "{'C': 0.1, 'kernel': 'linear'}\n"
          ]
        }
      ],
      "source": [
        "#meilleur paramétrage\n",
        "print(grid.best_params_)\n"
      ]
    },
    {
      "cell_type": "code",
      "execution_count": null,
      "id": "00019b38",
      "metadata": {
        "id": "00019b38",
        "outputId": "83eeec91-3506-4f49-d9be-c1c3c4cea21a"
      },
      "outputs": [
        {
          "name": "stdout",
          "output_type": "stream",
          "text": [
            "0.7627545184168383\n"
          ]
        }
      ],
      "source": [
        "#meilleur performance\n",
        "print(grid.best_score_)"
      ]
    },
    {
      "cell_type": "code",
      "execution_count": null,
      "id": "32e0af6d",
      "metadata": {
        "id": "32e0af6d"
      },
      "outputs": [],
      "source": [
        "#prédiction avec le meilleur modèle\n",
        "y_pred3 = grille.predict(X_test)"
      ]
    },
    {
      "cell_type": "code",
      "execution_count": null,
      "id": "e2f3b0e4",
      "metadata": {
        "id": "e2f3b0e4",
        "outputId": "6d769396-085d-4767-a20d-e936546865ad"
      },
      "outputs": [
        {
          "name": "stdout",
          "output_type": "stream",
          "text": [
            "0.7866666666666666\n"
          ]
        }
      ],
      "source": [
        "#succès en test\n",
        "print(metrics.accuracy_score(y_test,y_pred3))"
      ]
    },
    {
      "cell_type": "code",
      "execution_count": null,
      "id": "c066b065",
      "metadata": {
        "id": "c066b065"
      },
      "outputs": [],
      "source": []
    }
  ],
  "metadata": {
    "kernelspec": {
      "display_name": "Python 3 (ipykernel)",
      "language": "python",
      "name": "python3"
    },
    "language_info": {
      "codemirror_mode": {
        "name": "ipython",
        "version": 3
      },
      "file_extension": ".py",
      "mimetype": "text/x-python",
      "name": "python",
      "nbconvert_exporter": "python",
      "pygments_lexer": "ipython3",
      "version": "3.10.9"
    },
    "colab": {
      "provenance": [],
      "include_colab_link": true
    }
  },
  "nbformat": 4,
  "nbformat_minor": 5
}