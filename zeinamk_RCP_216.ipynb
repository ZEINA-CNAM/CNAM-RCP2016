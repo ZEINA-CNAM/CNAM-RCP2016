{
  "nbformat": 4,
  "nbformat_minor": 0,
  "metadata": {
    "colab": {
      "provenance": [],
      "authorship_tag": "ABX9TyN4FEWi/kHH563G/B1AIlAi",
      "include_colab_link": true
    },
    "kernelspec": {
      "name": "python3",
      "display_name": "Python 3"
    },
    "language_info": {
      "name": "python"
    }
  },
  "cells": [
    {
      "cell_type": "markdown",
      "metadata": {
        "id": "view-in-github",
        "colab_type": "text"
      },
      "source": [
        "<a href=\"https://colab.research.google.com/github/ZEINA-CNAM/CNAM-RCP2016/blob/main/zeinamk_RCP_216.ipynb\" target=\"_parent\"><img src=\"https://colab.research.google.com/assets/colab-badge.svg\" alt=\"Open In Colab\"/></a>"
      ]
    },
    {
      "cell_type": "code",
      "execution_count": null,
      "metadata": {
        "id": "_3ywUV-J8vQy"
      },
      "outputs": [],
      "source": []
    },
    {
      "cell_type": "markdown",
      "source": [
        "Devoir 2\n",
        "ex1: Écrire une fonction qui calcule la factorielle d'un nombre entier positif."
      ],
      "metadata": {
        "id": "swhfpFDFJIdl"
      }
    },
    {
      "cell_type": "code",
      "source": [
        "def factorielle(n):\n",
        "    if n < 0:\n",
        "        return \"n doit être un entier naturel.\"\n",
        "    factorielle = 1\n",
        "    i = 1\n",
        "    while i <= n:\n",
        "        factorielle = factorielle * i\n",
        "        i = i + 1\n",
        "    return factorielle\n",
        "n = 5\n",
        "resultat = factorielle(n)\n",
        "print(resultat)"
      ],
      "metadata": {
        "colab": {
          "base_uri": "https://localhost:8080/"
        },
        "id": "73k9ExpJJaay",
        "outputId": "8fa8cdb6-c61c-4deb-a23b-37aed434d9fe"
      },
      "execution_count": 7,
      "outputs": [
        {
          "output_type": "stream",
          "name": "stdout",
          "text": [
            "120\n"
          ]
        }
      ]
    },
    {
      "cell_type": "markdown",
      "source": [
        "ex2: Créer une fonction qui inverse une chaîne de caractères donnée"
      ],
      "metadata": {
        "id": "DgH5tL8yQ8Ja"
      }
    },
    {
      "cell_type": "code",
      "source": [
        "def chaine_inverser (chaine):\n",
        "    chaine_inverse = \"\"\n",
        "    for i in chaine:\n",
        "        chaine_inverse = i + chaine_inverse\n",
        "\n",
        "    return chaine_inverse\n",
        "chaine = \"freedom\"\n",
        "resultat = chaine_inverser(chaine)\n",
        "print(resultat)"
      ],
      "metadata": {
        "colab": {
          "base_uri": "https://localhost:8080/"
        },
        "id": "TfLvIOPIQ9tc",
        "outputId": "8eec375b-5088-4378-ec3d-d84819b3c294"
      },
      "execution_count": 10,
      "outputs": [
        {
          "output_type": "stream",
          "name": "stdout",
          "text": [
            "modeerf\n"
          ]
        }
      ]
    },
    {
      "cell_type": "markdown",
      "source": [
        "1. Manipulation de listes\n",
        "Écrivez un programme pour créer une liste de nombres entiers de 1 à 10. Ensuite, ajoutez 11 à la fin de la liste et insérez 0 au début.\n",
        "Supprimez l’élément au milieu de la liste (la position dépend de la longueur de la liste).\n",
        "Affichez la liste finale."
      ],
      "metadata": {
        "id": "pV60sB5Af1Dn"
      }
    },
    {
      "cell_type": "code",
      "source": [
        "# Créer une liste de nombres de 1 à 10\n",
        "liste = [1, 2, 3, 4, 5, 6, 7, 8, 9, 10]\n",
        "\n",
        "# Ajouter 11 à la fin de la liste\n",
        "liste=liste+[11]\n",
        "\n",
        "\n",
        "# Insérer 0 au début\n",
        "liste=[0]+liste\n",
        "\n",
        "# Supprimer l'élément du milieu (calcul de la position du milieu)\n",
        "milieu = len(liste) // 2  # Calcul de la position du milieu\n",
        "del liste[milieu]# Supprime l'élément à cette position\n",
        "\n",
        "# Afficher la liste finale\n",
        "print(\"Liste finale :\", liste)"
      ],
      "metadata": {
        "colab": {
          "base_uri": "https://localhost:8080/"
        },
        "id": "QRU_LH4kgJ6N",
        "outputId": "d6e7fb52-7c20-4df8-c307-1d7f6a9d0b4a"
      },
      "execution_count": 13,
      "outputs": [
        {
          "output_type": "stream",
          "name": "stdout",
          "text": [
            "Liste finale : [0, 1, 2, 3, 4, 5, 7, 8, 9, 10, 11]\n"
          ]
        }
      ]
    },
    {
      "cell_type": "markdown",
      "source": [
        "2.\n",
        "Écrivez une boucle for pour afficher chaque élément d’une liste de mots. Ensuite, utilisez une boucle for pour afficher uniquement les mots de plus de 4 lettres.\n",
        "Exemple de liste : [\"Python\", \"est\", \"amusant\", \"et\", \"puissant\"]"
      ],
      "metadata": {
        "id": "AV5XQcGSisxf"
      }
    },
    {
      "cell_type": "code",
      "source": [
        "liste = [\"Python\", \"est\", \"amusant\", \"et\", \"puissant\"]\n",
        "\n",
        "# Afficher chaque mot de la liste\n",
        "print(\"Tous les mots :\")\n",
        "for i in liste:\n",
        "    print(i)\n",
        "\n",
        "# Afficher uniquement les mots de plus de 4 lettres\n",
        "print(\"\\nMots de plus de 4 lettres :\")\n",
        "for i in liste:\n",
        "    if len(i) > 4:\n",
        "        print(i)"
      ],
      "metadata": {
        "colab": {
          "base_uri": "https://localhost:8080/"
        },
        "id": "81h_ABkMjBUW",
        "outputId": "6d569487-39fb-4130-e9a5-79ca6b009c7d"
      },
      "execution_count": 15,
      "outputs": [
        {
          "output_type": "stream",
          "name": "stdout",
          "text": [
            "Tous les mots :\n",
            "Python\n",
            "est\n",
            "amusant\n",
            "et\n",
            "puissant\n",
            "\n",
            "Mots de plus de 4 lettres :\n",
            "Python\n",
            "amusant\n",
            "puissant\n"
          ]
        }
      ]
    },
    {
      "cell_type": "markdown",
      "source": [
        "3. Création et appel de fonctions\n",
        "Écrivez une fonction appelée addition qui prend deux nombres en paramètres et retourne leur somme.\n",
        "Écrivez une fonction multiplication qui prend une liste de nombres et retourne leur produit.\n",
        "Appelez les fonctions et affichez les résultats pour tester leur fonctionnement."
      ],
      "metadata": {
        "id": "yQgBBpKmkMV2"
      }
    },
    {
      "cell_type": "code",
      "source": [
        "# Fonction addition\n",
        "def addition(a, b):\n",
        "    return a + b\n",
        "print(\"Addition de 5 et 3 est :\", addition(5, 3))\n",
        "# Fonction multiplication\n",
        "def multiplication(liste):\n",
        "    produit = 1\n",
        "    for i in liste:\n",
        "        produit *= i\n",
        "    return produit\n",
        "print(\"Multiplication des éléments [1, 2, 3, 4] est:\", multiplication([1, 2, 3, 4]))\n"
      ],
      "metadata": {
        "colab": {
          "base_uri": "https://localhost:8080/"
        },
        "id": "_rDMVbk1kgq0",
        "outputId": "5bf99883-1159-4595-fc6d-75398a96bb8f"
      },
      "execution_count": 17,
      "outputs": [
        {
          "output_type": "stream",
          "name": "stdout",
          "text": [
            "Addition de 5 et 3 est : 8\n",
            "Multiplication des éléments [1, 2, 3, 4] est: 24\n"
          ]
        }
      ]
    },
    {
      "cell_type": "markdown",
      "source": [
        "4. Calcul de la moyenne avec une fonction\n",
        "Créez une fonction moyenne qui prend une liste de nombres et retourne la moyenne.\n",
        "Testez la fonction avec une liste d’exemples et affichez la moyenne."
      ],
      "metadata": {
        "id": "TZzPWq58lI2H"
      }
    },
    {
      "cell_type": "code",
      "source": [
        "def moyenne(liste):\n",
        "    return sum(liste) / len(liste)\n",
        "\n",
        "# Test de la fonction\n",
        "exemple = [12, 20, 35, 48, 50]\n",
        "print(\"Moyenne de la liste :\", moyenne(exemple))"
      ],
      "metadata": {
        "colab": {
          "base_uri": "https://localhost:8080/"
        },
        "id": "920Lw5w0pf0Y",
        "outputId": "86ff0c36-a87d-429f-cbe1-91671b686ef3"
      },
      "execution_count": 2,
      "outputs": [
        {
          "output_type": "stream",
          "name": "stdout",
          "text": [
            "Moyenne de la liste : 33.0\n"
          ]
        }
      ]
    },
    {
      "cell_type": "markdown",
      "source": [
        "5.\n",
        "Utilisez numpy pour créer un tableau (array) de nombres de 0 à 9.\n",
        "Calculez la somme, la moyenne, le maximum et le minimum de ce tableau et affichez les résultats.\n",
        "Multipliez chaque élément du tableau par 2."
      ],
      "metadata": {
        "id": "DPEx0TRnp4H1"
      }
    },
    {
      "cell_type": "code",
      "source": [
        "import numpy as np\n",
        "\n",
        "# Créer un tableau de nombres de 0 à 9\n",
        "array = np.arange(10)\n",
        "\n",
        "# Calculer la somme, la moyenne, le maximum et le minimum\n",
        "somme = np.sum(array)  # Somme de tous les éléments\n",
        "moyenne = np.mean(array)  # Moyenne des éléments\n",
        "maximum = np.max(array)  # Valeur maximale\n",
        "minimum = np.min(array)  # Valeur minimale\n",
        "\n",
        "print(\"Tableau :\", array)\n",
        "print(\"Somme :\", somme)\n",
        "print(\"Moyenne :\", moyenne)\n",
        "print(\"Maximum :\", maximum)\n",
        "print(\"Minimum :\", minimum)\n",
        "\n",
        "# Multiplier chaque élément du tableau par 2 en utilisant np.multiply\n",
        "tableau_multiplie = np.multiply(array, 2)\n",
        "print(\"Tableau multiplié par 2 :\", tableau_multiplie)\n",
        "# Ajouter 2 à chaque élément du tableau (optionnel, démonstration de np.add)\n",
        "tableau_plus_deux = np.add(array, 2)\n",
        "print(\"Tableau avec 2 ajouté à chaque élément :\", tableau_plus_deux)\n"
      ],
      "metadata": {
        "colab": {
          "base_uri": "https://localhost:8080/"
        },
        "id": "qqj9_SoQtmFI",
        "outputId": "44ce70ce-4cfa-4a7d-9a5b-b7a41462afaa"
      },
      "execution_count": 3,
      "outputs": [
        {
          "output_type": "stream",
          "name": "stdout",
          "text": [
            "Tableau : [0 1 2 3 4 5 6 7 8 9]\n",
            "Somme : 45\n",
            "Moyenne : 4.5\n",
            "Maximum : 9\n",
            "Minimum : 0\n",
            "Tableau multiplié par 2 : [ 0  2  4  6  8 10 12 14 16 18]\n",
            "Tableau avec 2 ajouté à chaque élément : [ 2  3  4  5  6  7  8  9 10 11]\n"
          ]
        }
      ]
    },
    {
      "cell_type": "markdown",
      "source": [
        "6.\n",
        "Utilisez numpy pour générer un tableau de 10 nombres aléatoires entre 0 et 1.\n",
        "Calculez et affichez la somme et la moyenne des valeurs générées.\n",
        "Triez le tableau par ordre croissant."
      ],
      "metadata": {
        "id": "e6wWBsNZxnVh"
      }
    },
    {
      "cell_type": "code",
      "source": [
        "import numpy as np\n",
        "\n",
        "# Générer un tableau de 10 nombres aléatoires entre 0 et 1\n",
        "mon_tableau = np.random.random(10)\n",
        "\n",
        "# Calculer la somme et la moyenne des valeurs générées\n",
        "somme = np.sum(mon_tableau)\n",
        "moyenne = np.mean(mon_tableau)\n",
        "\n",
        "# Trier le tableau par ordre croissant\n",
        "tableau_trie = np.sort(mon_tableau)\n",
        "\n",
        "# Afficher les résultats\n",
        "print(\"Tableau aléatoire :\", mon_tableau)\n",
        "print(\"Somme :\", somme)\n",
        "print(\"Moyenne :\", moyenne)\n",
        "print(\"Tableau trié :\", tableau_trie)"
      ],
      "metadata": {
        "colab": {
          "base_uri": "https://localhost:8080/"
        },
        "id": "dd_gv2Zvxuwk",
        "outputId": "8afab81d-4dbc-48e9-99cf-96640f719080"
      },
      "execution_count": 5,
      "outputs": [
        {
          "output_type": "stream",
          "name": "stdout",
          "text": [
            "Tableau aléatoire : [0.2137804  0.24621088 0.80927645 0.94076356 0.73838275 0.53814713\n",
            " 0.37325054 0.7846839  0.87313663 0.50864002]\n",
            "Somme : 6.026272273366174\n",
            "Moyenne : 0.6026272273366173\n",
            "Tableau trié : [0.2137804  0.24621088 0.37325054 0.50864002 0.53814713 0.73838275\n",
            " 0.7846839  0.80927645 0.87313663 0.94076356]\n"
          ]
        }
      ]
    },
    {
      "cell_type": "markdown",
      "source": [
        "7.\n",
        "Créez une liste de nombres de 1 à 10 pour l’axe x et une liste de leurs carrés pour l’axe y.\n",
        "Utilisez matplotlib pour tracer un graphique en ligne avec ces valeurs.\n",
        "Ajoutez un titre et des étiquettes aux axes."
      ],
      "metadata": {
        "id": "4YrPsFCkzWRb"
      }
    },
    {
      "cell_type": "code",
      "source": [
        "import matplotlib.pyplot as plt\n",
        "\n",
        "# Créer une liste de 1 à 10 pour l'axe x et leurs carrés pour l'axe y\n",
        "x = [1, 2, 3, 4, 5, 6, 7, 8, 9, 10]\n",
        "y = [i**2 for i in x]\n",
        "\n",
        "# Tracer le graphique\n",
        "plt.plot(x, y, label='Carrés', color='blue')\n",
        "plt.title('Graphique des carrés')\n",
        "plt.xlabel('x')\n",
        "plt.ylabel('y')\n",
        "plt.legend()\n",
        "plt.show()"
      ],
      "metadata": {
        "colab": {
          "base_uri": "https://localhost:8080/",
          "height": 472
        },
        "id": "2s9J3kL819ny",
        "outputId": "4d85b545-514a-4eba-ab4e-0f9c51ebd45a"
      },
      "execution_count": 10,
      "outputs": [
        {
          "output_type": "display_data",
          "data": {
            "text/plain": [
              "<Figure size 640x480 with 1 Axes>"
            ],
            "image/png": "[encoded data removed]"
          },
          "metadata": {}
        }
      ]
    },
    {
      "cell_type": "markdown",
      "source": [
        "8.\n",
        "Utilisez numpy pour générer 1000 valeurs aléatoires suivant une distribution normale (moyenne 0, écart-type 1).\n",
        "Utilisez matplotlib pour tracer un histogramme des valeurs générées.\n",
        "Ajoutez un titre et des étiquettes pour décrire le graphique."
      ],
      "metadata": {
        "id": "ouuquS0C_cR_"
      }
    },
    {
      "cell_type": "code",
      "source": [
        "import numpy as np\n",
        "import matplotlib.pyplot as plt\n",
        "\n",
        "# Générer 1000 valeurs aléatoires suivant une distribution normale (moyenne=0, écart-type=1)\n",
        "valeurs = np.random.normal(0, 1, 1000)\n",
        "\n",
        "# Tracer un histogramme des valeurs générées\n",
        "plt.hist(valeurs, bins=30, color='blue', edgecolor='black')\n",
        "# Ajouter un titre et des étiquettes\n",
        "plt.title(\"Histogramme des valeurs suivant une distribution normale\")\n",
        "plt.xlabel(\"Valeurs\")\n",
        "plt.ylabel(\"Fréquence\")\n",
        "\n",
        "# Afficher le graphique\n",
        "plt.show()"
      ],
      "metadata": {
        "colab": {
          "base_uri": "https://localhost:8080/",
          "height": 472
        },
        "id": "ReLQ2HHTEIBL",
        "outputId": "718b1d4f-eb9c-41b5-bad8-c06021d95779"
      },
      "execution_count": 11,
      "outputs": [
        {
          "output_type": "display_data",
          "data": {
            "text/plain": [
              "<Figure size 640x480 with 1 Axes>"
            ],
            "image/png": "[encoded data removed]"
          },
          "metadata": {}
        }
      ]
    },
    {
      "cell_type": "markdown",
      "source": [
        "9.\n",
        "Utilisez numpy pour créer un tableau 2D (5x5) rempli de zéros.\n",
        "Remplissez chaque cellule avec la valeur de la somme de ses indices (i + j).\n",
        "Affichez le tableau."
      ],
      "metadata": {
        "id": "3_fn-4-xE3_8"
      }
    },
    {
      "cell_type": "code",
      "source": [
        "import numpy as np\n",
        "\n",
        "# Étape 1 : Créer un tableau 2D (5x5) rempli de zéros\n",
        "tableau = np.zeros((5, 5))\n",
        "print(tableau)\n",
        "# Étape 2 : Remplir chaque cellule avec la somme de ses indices (i + j)\n",
        "for i in range(5):\n",
        "    for j in range(5):\n",
        "        tableau[i][j] = i + j\n",
        "# Étape 3 : Afficher le tableau final\n",
        "print(\"Tableau 2D(5x5) rempli avec la somme des indices (i + j) :\")\n",
        "print(tableau)"
      ],
      "metadata": {
        "colab": {
          "base_uri": "https://localhost:8080/"
        },
        "id": "nn3h6kn8F5gi",
        "outputId": "71722055-ef61-464e-ac1e-6fa6fc935867"
      },
      "execution_count": 12,
      "outputs": [
        {
          "output_type": "stream",
          "name": "stdout",
          "text": [
            "[[0. 0. 0. 0. 0.]\n",
            " [0. 0. 0. 0. 0.]\n",
            " [0. 0. 0. 0. 0.]\n",
            " [0. 0. 0. 0. 0.]\n",
            " [0. 0. 0. 0. 0.]]\n",
            "Tableau 2D(5x5) rempli avec la somme des indices (i + j) :\n",
            "[[0. 1. 2. 3. 4.]\n",
            " [1. 2. 3. 4. 5.]\n",
            " [2. 3. 4. 5. 6.]\n",
            " [3. 4. 5. 6. 7.]\n",
            " [4. 5. 6. 7. 8.]]\n"
          ]
        }
      ]
    },
    {
      "cell_type": "markdown",
      "source": [
        "10.\n",
        "Utilisez numpy pour générer une liste de 100 valeurs pour x entre 0 et ( 2\\pi ).\n",
        "Calculez deux listes : sin(x) et cos(x).\n",
        "Utilisez matplotlib pour tracer les courbes de sin(x) et cos(x) sur le même graphique, avec des couleurs et des légendes différentes.\n",
        "Ajoutez un titre, des étiquettes pour les axes et une légende."
      ],
      "metadata": {
        "id": "ByBlriakGhuF"
      }
    },
    {
      "cell_type": "code",
      "source": [
        "import numpy as np\n",
        "import matplotlib.pyplot as plt\n",
        "\n",
        "# Étape 1 : Générer les valeurs de x directement\n",
        "x = [i * (2 * np.pi / 100) for i in range(100)]  # Calcul direct de chaque valeur\n",
        "\n",
        "# Étape 2 : Calculer les valeurs de sin(x) et cos(x)\n",
        "y_sin = [np.sin(i) for i in x]\n",
        "y_cos = [np.cos(i) for i in x]\n",
        "\n",
        "# Étape 3 : Tracer les courbes\n",
        "plt.plot(x, y_sin, label=\"sin(x)\", color=\"blue\", linestyle=\"-\")\n",
        "plt.plot(x, y_cos, label=\"cos(x)\", color=\"red\", linestyle=\"--\")\n",
        "\n",
        "# Ajouter un titre, des étiquettes et une légende\n",
        "plt.title(\"Courbes de sin(x) et cos(x)\")\n",
        "plt.xlabel(\"x (en radians)\")\n",
        "plt.ylabel(\"Valeurs de sin(x) et cos(x)\")\n",
        "plt.legend()\n",
        "\n",
        "# Étape 4 : Afficher le graphique\n",
        "plt.show()\n"
      ],
      "metadata": {
        "colab": {
          "base_uri": "https://localhost:8080/",
          "height": 472
        },
        "id": "RlYzPaNOI3Me",
        "outputId": "69c4bbf7-142e-477e-98f8-43494ac8df16"
      },
      "execution_count": 13,
      "outputs": [
        {
          "output_type": "display_data",
          "data": {
            "text/plain": [
              "<Figure size 640x480 with 1 Axes>"
            ],
            "image/png": "[encoded data removed]"
          },
          "metadata": {}
        }
      ]
    }
  ]
}